{
 "cells": [
  {
   "cell_type": "code",
   "id": "initial_id",
   "metadata": {
    "collapsed": true,
    "ExecuteTime": {
     "end_time": "2025-03-07T21:59:32.189212Z",
     "start_time": "2025-03-07T21:59:31.720486Z"
    }
   },
   "source": "w",
   "outputs": [
    {
     "ename": "MemoryError",
     "evalue": "Unable to allocate 30.5 GiB for an array with shape (1, 1, 1, 115668, 94527, 3) and data type uint8",
     "output_type": "error",
     "traceback": [
      "\u001B[31m---------------------------------------------------------------------------\u001B[39m",
      "\u001B[31mMemoryError\u001B[39m                               Traceback (most recent call last)",
      "\u001B[32m/tmp/ipykernel_42144/4093941954.py\u001B[39m in \u001B[36m?\u001B[39m\u001B[34m()\u001B[39m\n\u001B[32m      1\u001B[39m \u001B[38;5;28;01mimport\u001B[39;00m czifile\n\u001B[32m      2\u001B[39m \u001B[38;5;28;01mfrom\u001B[39;00m skimage \u001B[38;5;28;01mimport\u001B[39;00m io\n\u001B[32m----> \u001B[39m\u001B[32m3\u001B[39m img = czifile.imread(\u001B[33m'/home/basta/Downloads/75_21_H_Ki67.czi'\u001B[39m)\n\u001B[32m      4\u001B[39m print(img.shape)\n",
      "\u001B[32m~/Projects/hackhealth25/venv/lib64/python3.12/site-packages/czifile/czifile.py\u001B[39m in \u001B[36m?\u001B[39m\u001B[34m(filename, *args, **kwargs)\u001B[39m\n\u001B[32m    240\u001B[39m     \u001B[33m'args'\u001B[39m \u001B[38;5;28;01mand\u001B[39;00m \u001B[33m'kwargs'\u001B[39m are arguments to the CziFile.asarray function.\n\u001B[32m    241\u001B[39m \n\u001B[32m    242\u001B[39m     \"\"\"\n\u001B[32m    243\u001B[39m     \u001B[38;5;28;01mwith\u001B[39;00m CziFile(filename) \u001B[38;5;28;01mas\u001B[39;00m czi:\n\u001B[32m--> \u001B[39m\u001B[32m244\u001B[39m         result = czi.asarray(*args, **kwargs)\n\u001B[32m    245\u001B[39m     \u001B[38;5;28;01mreturn\u001B[39;00m result\n",
      "\u001B[32m~/Projects/hackhealth25/venv/lib64/python3.12/site-packages/czifile/czifile.py\u001B[39m in \u001B[36m?\u001B[39m\u001B[34m(self, resize, order, out, max_workers)\u001B[39m\n\u001B[32m    488\u001B[39m             Maximum number of threads to read \u001B[38;5;28;01mand\u001B[39;00m decode subblock data.\n\u001B[32m    489\u001B[39m             By default up to half the CPU cores are used.\n\u001B[32m    490\u001B[39m \n\u001B[32m    491\u001B[39m         \"\"\"\n\u001B[32m--> \u001B[39m\u001B[32m492\u001B[39m         out = create_output(out, self.shape, self.dtype)\n\u001B[32m    493\u001B[39m \n\u001B[32m    494\u001B[39m         \u001B[38;5;28;01mif\u001B[39;00m max_workers \u001B[38;5;28;01mis\u001B[39;00m \u001B[38;5;28;01mNone\u001B[39;00m:\n\u001B[32m    495\u001B[39m             max_workers = multiprocessing.cpu_count() // \u001B[32m2\u001B[39m\n",
      "\u001B[32m~/Projects/hackhealth25/venv/lib64/python3.12/site-packages/tifffile/tifffile.py\u001B[39m in \u001B[36m?\u001B[39m\u001B[34m(out, shape, dtype, mode, suffix, fillvalue)\u001B[39m\n\u001B[32m  23182\u001B[39m         \u001B[38;5;28;01mif\u001B[39;00m fillvalue:\n\u001B[32m  23183\u001B[39m             out = numpy.empty(shape, dtype)\n\u001B[32m  23184\u001B[39m             out[:] = fillvalue\n\u001B[32m  23185\u001B[39m             \u001B[38;5;28;01mreturn\u001B[39;00m out\n\u001B[32m> \u001B[39m\u001B[32m23186\u001B[39m         \u001B[38;5;28;01mreturn\u001B[39;00m numpy.zeros(shape, dtype)\n\u001B[32m  23187\u001B[39m     \u001B[38;5;28;01mif\u001B[39;00m isinstance(out, numpy.ndarray):\n\u001B[32m  23188\u001B[39m         \u001B[38;5;28;01mif\u001B[39;00m product(shape) != product(out.shape):\n\u001B[32m  23189\u001B[39m             \u001B[38;5;28;01mraise\u001B[39;00m ValueError(\u001B[33m'incompatible output shape'\u001B[39m)\n",
      "\u001B[31mMemoryError\u001B[39m: Unable to allocate 30.5 GiB for an array with shape (1, 1, 1, 115668, 94527, 3) and data type uint8"
     ]
    }
   ],
   "execution_count": 5
  },
  {
   "metadata": {
    "ExecuteTime": {
     "end_time": "2025-03-07T22:20:03.880287Z",
     "start_time": "2025-03-07T22:20:03.590208Z"
    }
   },
   "cell_type": "code",
   "source": [
    "import cv2\n",
    "import slideio\n",
    "path = '/home/basta/Downloads/75_21_H_Ki67.czi'\n",
    "slide = slideio.open_slide(path, driver='CZI')\n",
    "scene = slide.get_scene(0)"
   ],
   "id": "872069a0879874cd",
   "outputs": [],
   "execution_count": 1
  },
  {
   "metadata": {
    "ExecuteTime": {
     "end_time": "2025-03-08T09:36:33.169081Z",
     "start_time": "2025-03-07T22:20:04.080581Z"
    }
   },
   "cell_type": "code",
   "source": "img = scene.read_block(rect=(20000, 21000, 20000, 21000))",
   "id": "1317b3a9c2f0b3ef",
   "outputs": [
    {
     "ename": "KeyboardInterrupt",
     "evalue": "",
     "output_type": "error",
     "traceback": [
      "\u001B[31m---------------------------------------------------------------------------\u001B[39m",
      "\u001B[31mKeyboardInterrupt\u001B[39m                         Traceback (most recent call last)",
      "\u001B[36mCell\u001B[39m\u001B[36m \u001B[39m\u001B[32mIn[2]\u001B[39m\u001B[32m, line 1\u001B[39m\n\u001B[32m----> \u001B[39m\u001B[32m1\u001B[39m img = \u001B[43mscene\u001B[49m\u001B[43m.\u001B[49m\u001B[43mread_block\u001B[49m\u001B[43m(\u001B[49m\u001B[43mrect\u001B[49m\u001B[43m=\u001B[49m\u001B[43m(\u001B[49m\u001B[32;43m20000\u001B[39;49m\u001B[43m,\u001B[49m\u001B[43m \u001B[49m\u001B[32;43m21000\u001B[39;49m\u001B[43m,\u001B[49m\u001B[43m \u001B[49m\u001B[32;43m20000\u001B[39;49m\u001B[43m,\u001B[49m\u001B[43m \u001B[49m\u001B[32;43m21000\u001B[39;49m\u001B[43m)\u001B[49m\u001B[43m)\u001B[49m\n",
      "\u001B[36mFile \u001B[39m\u001B[32m~/Projects/hackhealth25/venv/lib64/python3.12/site-packages/slideio/wrappers/py_slideio.py:159\u001B[39m, in \u001B[36mScene.read_block\u001B[39m\u001B[34m(self, rect, size, channel_indices, slices, frames)\u001B[39m\n\u001B[32m    146\u001B[39m \u001B[38;5;28;01mdef\u001B[39;00m\u001B[38;5;250m \u001B[39m\u001B[34mread_block\u001B[39m(\u001B[38;5;28mself\u001B[39m, rect=(\u001B[32m0\u001B[39m,\u001B[32m0\u001B[39m,\u001B[32m0\u001B[39m,\u001B[32m0\u001B[39m), size=(\u001B[32m0\u001B[39m,\u001B[32m0\u001B[39m), channel_indices=[], slices=(\u001B[32m0\u001B[39m,\u001B[32m1\u001B[39m), frames=(\u001B[32m0\u001B[39m,\u001B[32m1\u001B[39m)):\n\u001B[32m    147\u001B[39m \u001B[38;5;250m    \u001B[39m\u001B[33;03m'''Reads rectangular block of the scene with optional rescaling.\u001B[39;00m\n\u001B[32m    148\u001B[39m \n\u001B[32m    149\u001B[39m \u001B[33;03m    Args:\u001B[39;00m\n\u001B[32m   (...)\u001B[39m\u001B[32m    157\u001B[39m \u001B[33;03m        numpy array with pixel values\u001B[39;00m\n\u001B[32m    158\u001B[39m \u001B[33;03m    '''\u001B[39;00m\n\u001B[32m--> \u001B[39m\u001B[32m159\u001B[39m     \u001B[38;5;28;01mreturn\u001B[39;00m \u001B[38;5;28;43mself\u001B[39;49m\u001B[43m.\u001B[49m\u001B[43mscene\u001B[49m\u001B[43m.\u001B[49m\u001B[43mread_block\u001B[49m\u001B[43m(\u001B[49m\u001B[43mrect\u001B[49m\u001B[43m,\u001B[49m\u001B[43m \u001B[49m\u001B[43msize\u001B[49m\u001B[43m,\u001B[49m\u001B[43m \u001B[49m\u001B[43mchannel_indices\u001B[49m\u001B[43m,\u001B[49m\u001B[43m \u001B[49m\u001B[43mslices\u001B[49m\u001B[43m,\u001B[49m\u001B[43m \u001B[49m\u001B[43mframes\u001B[49m\u001B[43m)\u001B[49m\n",
      "\u001B[31mKeyboardInterrupt\u001B[39m: "
     ]
    }
   ],
   "execution_count": 2
  },
  {
   "metadata": {
    "ExecuteTime": {
     "end_time": "2025-03-08T09:36:33.240964764Z",
     "start_time": "2025-03-07T22:17:18.108812Z"
    }
   },
   "cell_type": "code",
   "source": [
    "cv2.namedWindow(\"Resizable Image\", cv2.WINDOW_NORMAL)\n",
    "\n",
    "# Display the image in the window\n",
    "cv2.imshow(\"Resizable Image\", img)\n",
    "\n",
    "# Wait for a key press. 0 means wait indefinitely\n",
    "cv2.waitKey(0)"
   ],
   "id": "22a6d94ab488c22d",
   "outputs": [
    {
     "name": "stderr",
     "output_type": "stream",
     "text": [
      "Warning: Ignoring XDG_SESSION_TYPE=wayland on Gnome. Use QT_QPA_PLATFORM=wayland to run on Wayland anyway.\n"
     ]
    }
   ],
   "execution_count": null
  },
  {
   "metadata": {},
   "cell_type": "code",
   "outputs": [],
   "execution_count": null,
   "source": "",
   "id": "917a1b8e080ae4d9"
  },
  {
   "metadata": {},
   "cell_type": "code",
   "outputs": [],
   "execution_count": null,
   "source": "",
   "id": "7bdc68da11fe953d"
  }
 ],
 "metadata": {
  "kernelspec": {
   "display_name": "Python 3",
   "language": "python",
   "name": "python3"
  },
  "language_info": {
   "codemirror_mode": {
    "name": "ipython",
    "version": 2
   },
   "file_extension": ".py",
   "mimetype": "text/x-python",
   "name": "python",
   "nbconvert_exporter": "python",
   "pygments_lexer": "ipython2",
   "version": "2.7.6"
  }
 },
 "nbformat": 4,
 "nbformat_minor": 5
}
